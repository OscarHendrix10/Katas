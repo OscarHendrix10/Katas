{
 "cells": [
  {
   "cell_type": "code",
   "execution_count": null,
   "metadata": {},
   "outputs": [],
   "source": [
    "#Ejercicio 1\n",
    "\n",
    "# Añadir el código necesario para crear una variable que guarde la velocidad del asteroide.\n",
    "# Escribe una expresión de prueba para calcular si necesita una advertencia.\n",
    "# Agregue las instrucciones que se ejecutarán si la expresión de prueba es true o false.\n",
    "\n",
    "asteroid = 46\n",
    "\n",
    "if (asteroid > 25):\n",
    "    print(\"se acerca el asteroide\")\n",
    "else:\n",
    "    print(\"no se acerca el asteroide falsa alarma\")\n"
   ]
  },
  {
   "cell_type": "code",
   "execution_count": null,
   "metadata": {},
   "outputs": [],
   "source": [
    "#Ejercicio 2\n",
    "\n",
    "# Agrega el código para crear una variable para un asteroide que viaja a 19 km/s\n",
    "# Escribe varias expresiones de prueba para determinar si puedes ver el rayo de luz desde la tierra\n",
    "# Agrega las instrucciones que se ejecutarán si las expresiones de prueba son True o False\n",
    "\n",
    "asteroid = 19\n",
    "if (asteroid >= 20):\n",
    "    print(\"se puede ver el rayo de luz desde la tierra\")\n",
    "else:\n",
    "    print(\"no se ve nada\")"
   ]
  },
  {
   "cell_type": "code",
   "execution_count": null,
   "metadata": {},
   "outputs": [],
   "source": [
    "#Ejercicio 3\n",
    "\n",
    "# Agrega el código para crear nuevas variables para la velocidad y el tamaño del asteroide\n",
    "# Para probar el código, prueba con varias velocidades y tamaños\n",
    "# Escribe varias expresiones de prueba o combinaciones de expresiones de prueba para determinar qué mensaje se debe enviar a Tierra.\n",
    "\n",
    "speed_aesteroid = 25\n",
    "size_asteroid = 40\n",
    "if speed_aesteroid > 25 and size_asteroid > 25:\n",
    "     print(\"se acerca el asteroide\")\n",
    "elif speed_aesteroid >= 20:\n",
    "    print(\"se puede ver el rayo de luz desde la tierra\")\n",
    "elif size_asteroid < 25:\n",
    "     print(\"no se ve nada\")\n",
    "else:\n",
    "     print(\"no se ve nada\")"
   ]
  }
 ],
 "metadata": {
  "language_info": {
   "name": "python"
  },
  "orig_nbformat": 4
 },
 "nbformat": 4,
 "nbformat_minor": 2
}
